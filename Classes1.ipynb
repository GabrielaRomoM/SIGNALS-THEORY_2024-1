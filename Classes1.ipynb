{
  "nbformat": 4,
  "nbformat_minor": 0,
  "metadata": {
    "colab": {
      "provenance": [],
      "include_colab_link": true
    },
    "kernelspec": {
      "name": "python3",
      "display_name": "Python 3"
    },
    "language_info": {
      "name": "python"
    }
  },
  "cells": [
    {
      "cell_type": "markdown",
      "metadata": {
        "id": "view-in-github",
        "colab_type": "text"
      },
      "source": [
        "<a href=\"https://colab.research.google.com/github/GabrielaRomoM/SIGNALS-THEORY_2024-1/blob/main/Taller1_Clases.ipynb\" target=\"_parent\"><img src=\"https://colab.research.google.com/assets/colab-badge.svg\" alt=\"Open In Colab\"/></a>"
      ]
    },
    {
      "cell_type": "markdown",
      "source": [
        "\n",
        ">  GABRIELA ROMO MENDOZA"
      ],
      "metadata": {
        "id": "h0-QYVe4U_P3"
      }
    },
    {
      "cell_type": "markdown",
      "source": [
        "#*Taller 1 Teoria*#\n",
        "In this Notebook, the goal is to compile the topics covered in **Classes-Inheritance-Sets** through the following exercise:\n",
        "\n",
        "\n",
        "\n",
        "\n",
        "1.  *First part: Create a Python class that takes a xlsx_file and allows me\n",
        "to -->*\n",
        "\n",
        "\n",
        "*   Read data\n",
        "*   return mean of a specific column\n",
        "*   return mode of a specific column\n",
        "*   return median of a specific column\n",
        "\n",
        "\n",
        "\n",
        "\n",
        "\n",
        "\n",
        "\n",
        "\n",
        "---\n",
        "\n",
        "\n",
        "\n",
        "\n",
        "2.   *Second part: Create a 'child' class of type Single inheritence from  the previous class that should take 2 xlsx_files and provides  --> the following set operations on the data in both dataframes:*\n",
        "\n",
        "\n",
        "\n",
        "\n",
        "**A ∪ B**\n",
        "---\n",
        "**A ∩ B**\n",
        "---\n",
        "**A - B**\n",
        "---\n",
        "**B - A**\n",
        "---\n",
        "**A △ B**\n",
        "---\n",
        "\n",
        "\n",
        "\n",
        "###*hints*###\n",
        "\n",
        "\n",
        "*   YOU CAN USE PANDAS AS LONG IS IN YOUR OWN CLASS\n",
        "*   [read_excel()](https://pandas.pydata.org/pandas-docs/stable/reference/api/pandas.read_excel.html)\n",
        "* [merge()](https://pandas.pydata.org/pandas-docs/stable/user_guide/merging.html)\n",
        "\n",
        "* [Isin()](https://www.delftstack.com/api/python-pandas/pandas-dataframe-dataframe.isin-function/)\n",
        "\n",
        "\n",
        "* [symmetric difference](https://pandas.pydata.org/pandas-docs/stable/user_guide/merging.html)\n",
        "\n",
        "\n",
        "* [concat](https://pandas.pydata.org/pandas-docs/stable/reference/api/pandas.concat.html)"
      ],
      "metadata": {
        "id": "4a6WviWNQ6tW"
      }
    },
    {
      "cell_type": "markdown",
      "source": [
        "\n",
        "\n",
        "> PRIMER PUNTO\n",
        "\n"
      ],
      "metadata": {
        "id": "kxIvd-l_WNtq"
      }
    },
    {
      "cell_type": "code",
      "source": [
        "#Importación de Librerias\n",
        "import pandas as pd"
      ],
      "metadata": {
        "id": "SlJIWQypATAY"
      },
      "execution_count": null,
      "outputs": []
    },
    {
      "cell_type": "code",
      "source": [
        "#Lectura de cuadernos\n",
        "#Subir cuadernos a colab previamente\n",
        "D1= pd.read_excel('Book1.xlsx', index_col=0)\n",
        "D2= pd.read_excel('Book2.xlsx', index_col=0)"
      ],
      "metadata": {
        "id": "VCEFiAVKKHPY"
      },
      "execution_count": null,
      "outputs": []
    },
    {
      "cell_type": "code",
      "source": [
        "#Proceso para obtener los datos deseados (media, moda y mediana)\n",
        "class CDatos:\n",
        "    def __init__(self, datos):\n",
        "        self.data = datos\n",
        "\n",
        "datos = {'1': D1, '2': D2}\n",
        "A= input(\"Escriba el cuaderno con el que desea trabajar (1 o 2):\" )\n",
        "if A in datos:\n",
        "  data = datos[A]\n",
        "  print(data)\n",
        "  C= input(\"Seleccione la columna con la que desea trabajar EDAD(a), PESO(b), ESTATURA(c):\" )\n",
        "  if C=='a':\n",
        "    media= data[\"Edad\"].mean()\n",
        "    print(\"Media (Edad): \", media)\n",
        "    moda= data[\"Edad\"].mode()\n",
        "    print(\"Moda (Edad): \")\n",
        "    print(moda)\n",
        "    mediana= data[\"Edad\"].median()\n",
        "    print(\"Mediana (Edad): \", mediana)\n",
        "  else:\n",
        "    if C=='b':\n",
        "       media= data[\"Peso\"].mean()\n",
        "       print(\"Media (Peso): \", media)\n",
        "       moda= data[\"Peso\"].mode()\n",
        "       print(\"Moda (Peso): \")\n",
        "       print(moda)\n",
        "       mediana= data[\"Peso\"].median()\n",
        "       print(\"Mediana (Peso): \", mediana)\n",
        "    else:\n",
        "       media= data[\"Estatura\"].mean()\n",
        "       print(\"Media (Estatura): \", media)\n",
        "       moda= data[\"Estatura\"].mode()\n",
        "       print(\"Moda (Estatura): \")\n",
        "       print(moda)\n",
        "       mediana= data[\"Estatura\"].median()\n",
        "       print(\"Mediana (Estatura): \", mediana)\n",
        "else:\n",
        " print(\"Cuaderno no válido.\")"
      ],
      "metadata": {
        "colab": {
          "base_uri": "https://localhost:8080/"
        },
        "id": "ZhsqpCRN8xAQ",
        "outputId": "78650339-3c0f-4b57-8f1e-6b3184065a63"
      },
      "execution_count": null,
      "outputs": [
        {
          "output_type": "stream",
          "name": "stdout",
          "text": [
            "Escriba el cuaderno con el que desea trabajar (1 o 2):2\n",
            "          Edad  Peso  Estatura\n",
            "Nombres                       \n",
            "Maria       53    78      1.78\n",
            "Marcos      34    97      1.77\n",
            "Daniel      12    65      1.74\n",
            "Mateo       12    43      1.80\n",
            "Julian      32    45      1.98\n",
            "David       23    65      1.87\n",
            "Santiago    32    23      1.90\n",
            "Seleccione la columna con la que desea trabajar EDAD(a), PESO(b), ESTATURA(c):a\n",
            "Media (Edad):  28.285714285714285\n",
            "Moda (Edad): \n",
            "0    12\n",
            "1    32\n",
            "Name: Edad, dtype: int64\n",
            "Mediana (Edad):  32.0\n"
          ]
        }
      ]
    },
    {
      "cell_type": "markdown",
      "source": [
        "> SEGUNDO PUNTO\n",
        "\n"
      ],
      "metadata": {
        "id": "CiA1IhoQczKF"
      }
    },
    {
      "cell_type": "code",
      "source": [
        "class OP(CDatos):\n",
        "    def __init__(self, D1,D2):\n",
        "        self.data1 = D1\n",
        "        self.data2 = D2\n",
        "\n",
        "    def Union(self):\n",
        "        U= pd.concat([self.data1,self.data2]).drop_duplicates()\n",
        "        print(\"La unión de los cuadernos es: \")\n",
        "        print(U)\n",
        "    def Inter(self):\n",
        "        I= pd.merge(self.data1, self.data2)\n",
        "        print(\"La intersección de los cuadernos es: \")\n",
        "        print(I)\n",
        "    def Dif(self):\n",
        "        Df= pd.merge(self.data1, self.data2,how='left')\n",
        "        print(\"La diferencia entre los cuadernos es: \")\n",
        "        print(Df)\n",
        "    def Dif2(self):\n",
        "        Df2= pd.merge(self.data1, self.data2,how='right')\n",
        "        print(\"La diferencia entre los cuadernos es: \")\n",
        "        print(Df2)\n",
        "    def Sim(self):\n",
        "        DFs= pd.concat([self.data1,self.data2]).drop_duplicates(keep=False)\n",
        "        print(\"La diferencia simetrica de los cuadernos es: \")\n",
        "        print(DFs)\n",
        "\n",
        "print(\" A ∪ B (1), A ∩ B (2), A - B(3), B - A(4), A △ B(5)\")\n",
        "O = input(\"Qué operación de conjuntos desea realizar en los cuadernos: \")\n",
        "\n",
        "ops= OP(D1,D2)\n",
        "if O=='1':\n",
        "  ops.Union()\n",
        "elif O=='2':\n",
        "  ops.Inter()\n",
        "elif O=='3':\n",
        "  ops.Dif()\n",
        "elif O== '4':\n",
        "  ops.Dif2()\n",
        "elif O=='5':\n",
        "  ops.Sim()\n",
        "else:\n",
        "  print(\"Entrada no valida\")"
      ],
      "metadata": {
        "colab": {
          "base_uri": "https://localhost:8080/"
        },
        "id": "lxt0tzzfdRv1",
        "outputId": "501d1845-4098-459d-ac52-777905ce3ebf"
      },
      "execution_count": null,
      "outputs": [
        {
          "output_type": "stream",
          "name": "stdout",
          "text": [
            " A ∪ B (1), A ∩ B (2), A - B(3), B - A(4), A △ B(5)\n",
            "Qué operación de conjuntos desea realizar en los cuadernos: 1\n",
            "La unión de los cuadernos es: \n",
            "          Edad  Peso  Estatura\n",
            "Nombres                       \n",
            "Manuel      15    67      1.60\n",
            "Juan        14    80      1.55\n",
            "Mateo       12    43      1.80\n",
            "Santiago    32    23      1.90\n",
            "Federico    23    34      1.70\n",
            "Maria       53    78      1.78\n",
            "Marcos      34    97      1.77\n",
            "Daniel      12    65      1.74\n",
            "Julian      32    45      1.98\n",
            "David       23    65      1.87\n"
          ]
        }
      ]
    }
  ]
}
